{
 "cells": [
  {
   "cell_type": "code",
   "execution_count": 1,
   "id": "a7c91200-45b0-46e5-ad00-704789c130fa",
   "metadata": {},
   "outputs": [],
   "source": [
    "import pyspark\n",
    "from pyspark.sql import SparkSession, types\n",
    "from pyspark.sql import functions as F"
   ]
  },
  {
   "cell_type": "code",
   "execution_count": 2,
   "id": "cbe02ebb-998a-47c2-956f-09d388c31584",
   "metadata": {},
   "outputs": [
    {
     "name": "stderr",
     "output_type": "stream",
     "text": [
      "WARNING: An illegal reflective access operation has occurred\n",
      "WARNING: Illegal reflective access by org.apache.spark.unsafe.Platform (file:/home/ivan/spark/spark-3.0.3-bin-hadoop3.2/jars/spark-unsafe_2.12-3.0.3.jar) to constructor java.nio.DirectByteBuffer(long,int)\n",
      "WARNING: Please consider reporting this to the maintainers of org.apache.spark.unsafe.Platform\n",
      "WARNING: Use --illegal-access=warn to enable warnings of further illegal reflective access operations\n",
      "WARNING: All illegal access operations will be denied in a future release\n",
      "22/03/01 20:12:35 WARN NativeCodeLoader: Unable to load native-hadoop library for your platform... using builtin-java classes where applicable\n",
      "Using Spark's default log4j profile: org/apache/spark/log4j-defaults.properties\n",
      "Setting default log level to \"WARN\".\n",
      "To adjust logging level use sc.setLogLevel(newLevel). For SparkR, use setLogLevel(newLevel).\n"
     ]
    }
   ],
   "source": [
    "spark = SparkSession.builder \\\n",
    "    .master(\"local[*]\") \\\n",
    "    .appName('test') \\\n",
    "    .getOrCreate()"
   ]
  },
  {
   "cell_type": "code",
   "execution_count": 3,
   "id": "095de3a9-bfa3-40e2-bfdc-ab2cf9f8fdf0",
   "metadata": {},
   "outputs": [
    {
     "data": {
      "text/plain": [
       "'3.0.3'"
      ]
     },
     "execution_count": 3,
     "metadata": {},
     "output_type": "execute_result"
    }
   ],
   "source": [
    "spark.version"
   ]
  },
  {
   "cell_type": "code",
   "execution_count": 4,
   "id": "4a6d78f6-12c5-41ab-9639-fccd4182de60",
   "metadata": {},
   "outputs": [
    {
     "name": "stdout",
     "output_type": "stream",
     "text": [
      "--2022-03-01 15:05:42--  https://nyc-tlc.s3.amazonaws.com/trip+data/fhvhv_tripdata_2021-02.csv\n",
      "Resolving nyc-tlc.s3.amazonaws.com (nyc-tlc.s3.amazonaws.com)... 52.217.77.204\n",
      "Connecting to nyc-tlc.s3.amazonaws.com (nyc-tlc.s3.amazonaws.com)|52.217.77.204|:443... connected.\n",
      "HTTP request sent, awaiting response... 200 OK\n",
      "Length: 733822658 (700M) [text/csv]\n",
      "Saving to: ‘fhvhv_tripdata_2021-02.csv.1’\n",
      "\n",
      "fhvhv_tripdata_2021 100%[===================>] 699.83M  27.6MB/s    in 27s     \n",
      "\n",
      "2022-03-01 15:06:10 (26.0 MB/s) - ‘fhvhv_tripdata_2021-02.csv.1’ saved [733822658/733822658]\n",
      "\n"
     ]
    }
   ],
   "source": [
    "!wget https://nyc-tlc.s3.amazonaws.com/trip+data/fhvhv_tripdata_2021-02.csv"
   ]
  },
  {
   "cell_type": "code",
   "execution_count": 4,
   "id": "04beae39-081a-45ea-864e-67b1973e9f43",
   "metadata": {},
   "outputs": [],
   "source": [
    "schema = types.StructType([\n",
    "    types.StructField('hvfhs_license_num', types.StringType(), True),\n",
    "    types.StructField('dispatching_base_num', types.StringType(), True),\n",
    "    types.StructField('pickup_datetime', types.TimestampType(), True),\n",
    "    types.StructField('dropoff_datetime', types.TimestampType(), True),\n",
    "    types.StructField('PULocationID', types.IntegerType(), True),\n",
    "    types.StructField('DOLocationID', types.IntegerType(), True),\n",
    "    types.StructField('SR_Flag', types.StringType(), True)\n",
    "])"
   ]
  },
  {
   "cell_type": "code",
   "execution_count": 5,
   "id": "43aa9d72-4cb1-4a43-98a0-b0f007b2e1de",
   "metadata": {},
   "outputs": [],
   "source": [
    "df = spark.read \\\n",
    "    .option(\"header\", \"true\") \\\n",
    "    .schema(schema) \\\n",
    "    .csv('fhvhv_tripdata_2021-02.csv')"
   ]
  },
  {
   "cell_type": "code",
   "execution_count": 6,
   "id": "b0aef2d7-abdd-43c5-b286-0e81be60532b",
   "metadata": {},
   "outputs": [
    {
     "name": "stdout",
     "output_type": "stream",
     "text": [
      "root\n",
      " |-- hvfhs_license_num: string (nullable = true)\n",
      " |-- dispatching_base_num: string (nullable = true)\n",
      " |-- pickup_datetime: timestamp (nullable = true)\n",
      " |-- dropoff_datetime: timestamp (nullable = true)\n",
      " |-- PULocationID: integer (nullable = true)\n",
      " |-- DOLocationID: integer (nullable = true)\n",
      " |-- SR_Flag: string (nullable = true)\n",
      "\n"
     ]
    }
   ],
   "source": [
    "df.printSchema()"
   ]
  },
  {
   "cell_type": "code",
   "execution_count": 7,
   "id": "ac9f78c6-40d6-4c7f-8351-845e58727fcd",
   "metadata": {},
   "outputs": [],
   "source": [
    "df = df.repartition(24)"
   ]
  },
  {
   "cell_type": "code",
   "execution_count": 9,
   "id": "b5108fe4-46eb-439b-b3f0-32d7ec327600",
   "metadata": {},
   "outputs": [
    {
     "name": "stderr",
     "output_type": "stream",
     "text": [
      "                                                                                \r"
     ]
    }
   ],
   "source": [
    "df.write.parquet('fhvhv/2021/02/*', mode='overwrite')"
   ]
  },
  {
   "cell_type": "markdown",
   "id": "ab1209a5-6293-4d0e-9451-74e4b228cc8b",
   "metadata": {},
   "source": [
    "### Question 3"
   ]
  },
  {
   "cell_type": "code",
   "execution_count": 28,
   "id": "5ec3132c-cd9f-446e-819e-72c026d51d56",
   "metadata": {},
   "outputs": [],
   "source": [
    "df = spark.read.parquet('fhvhv/2021/02/*')"
   ]
  },
  {
   "cell_type": "code",
   "execution_count": 8,
   "id": "77fa90a8-b3d7-4c87-91db-198381c68922",
   "metadata": {},
   "outputs": [],
   "source": [
    "df.registerTempTable('test_table')"
   ]
  },
  {
   "cell_type": "code",
   "execution_count": 30,
   "id": "884bfac6-15e3-4a5b-b12f-e9ff95857cd2",
   "metadata": {},
   "outputs": [],
   "source": [
    "df_res = spark.sql(\"\"\"\n",
    "SELECT \n",
    "    count(1)\n",
    "FROM\n",
    "    test_table\n",
    "WHERE\n",
    "    DATE(pickup_datetime) = '2021-02-15'\n",
    "\"\"\")"
   ]
  },
  {
   "cell_type": "code",
   "execution_count": 32,
   "id": "56c85132-9ea1-4e5a-a6c6-30e524b5691a",
   "metadata": {},
   "outputs": [
    {
     "name": "stderr",
     "output_type": "stream",
     "text": [
      "[Stage 18:============>     (4 + 2) / 6][Stage 21:=========>        (2 + 2) / 4]\r"
     ]
    },
    {
     "name": "stdout",
     "output_type": "stream",
     "text": [
      "+--------+\n",
      "|count(1)|\n",
      "+--------+\n",
      "|  367170|\n",
      "+--------+\n",
      "\n"
     ]
    },
    {
     "name": "stderr",
     "output_type": "stream",
     "text": [
      "                                                                                \r"
     ]
    }
   ],
   "source": [
    "df_res.show()"
   ]
  },
  {
   "cell_type": "markdown",
   "id": "f4bc845b-7bbb-45f5-b371-5c1c82586ea8",
   "metadata": {},
   "source": [
    "### Question 4"
   ]
  },
  {
   "cell_type": "code",
   "execution_count": 50,
   "id": "b02a74fa-7c92-471e-a06e-f789fbafbe0e",
   "metadata": {},
   "outputs": [
    {
     "name": "stderr",
     "output_type": "stream",
     "text": [
      "[Stage 24:>                                                         (0 + 4) / 4]\r"
     ]
    },
    {
     "name": "stdout",
     "output_type": "stream",
     "text": [
      "+-----------------+--------------------+-------------------+-------------------+------------+------------+-------+---------+\n",
      "|hvfhs_license_num|dispatching_base_num|    pickup_datetime|   dropoff_datetime|PULocationID|DOLocationID|SR_Flag|date_diff|\n",
      "+-----------------+--------------------+-------------------+-------------------+------------+------------+-------+---------+\n",
      "|           HV0005|              B02510|2021-02-11 13:40:44|2021-02-12 10:39:44|         247|          41|   null|    75540|\n",
      "|           HV0004|              B02800|2021-02-17 15:54:53|2021-02-18 07:48:34|         242|         254|   null|    57221|\n",
      "|           HV0004|              B02800|2021-02-20 12:08:15|2021-02-21 00:22:14|         188|          55|   null|    44039|\n",
      "|           HV0003|              B02864|2021-02-03 20:24:25|2021-02-04 07:41:58|          51|         147|   null|    40653|\n",
      "|           HV0003|              B02887|2021-02-19 23:17:44|2021-02-20 09:44:01|         210|         149|   null|    37577|\n",
      "|           HV0003|              B02764|2021-02-25 17:13:35|2021-02-26 02:57:05|         174|         126|   null|    35010|\n",
      "|           HV0003|              B02875|2021-02-20 01:36:13|2021-02-20 11:16:19|         242|          31|   null|    34806|\n",
      "|           HV0005|              B02510|2021-02-18 15:24:19|2021-02-19 01:01:11|         196|         197|   null|    34612|\n",
      "|           HV0003|              B02764|2021-02-18 01:31:20|2021-02-18 11:07:15|          89|         265|   null|    34555|\n",
      "|           HV0005|              B02510|2021-02-10 20:51:39|2021-02-11 06:21:08|         254|         259|   null|    34169|\n",
      "|           HV0003|              B02764|2021-02-10 01:56:17|2021-02-10 10:57:33|          61|         265|   null|    32476|\n",
      "|           HV0005|              B02510|2021-02-25 09:18:18|2021-02-25 18:18:57|         169|         265|   null|    32439|\n",
      "|           HV0005|              B02510|2021-02-21 19:59:13|2021-02-22 04:56:16|          10|          10|   null|    32223|\n",
      "|           HV0003|              B02864|2021-02-09 18:36:13|2021-02-10 03:31:00|          78|         147|   null|    32087|\n",
      "|           HV0004|              B02800|2021-02-06 09:48:09|2021-02-06 18:32:16|         229|         188|   null|    31447|\n",
      "|           HV0005|              B02510|2021-02-02 09:42:30|2021-02-02 18:17:43|          85|          85|   null|    30913|\n",
      "|           HV0005|              B02510|2021-02-10 10:12:08|2021-02-10 18:46:24|          29|         125|   null|    30856|\n",
      "|           HV0003|              B02764|2021-02-09 13:30:13|2021-02-09 22:02:25|         188|         265|   null|    30732|\n",
      "|           HV0005|              B02510|2021-02-21 22:50:52|2021-02-22 07:21:52|         177|          73|   null|    30660|\n",
      "|           HV0005|              B02510|2021-02-05 21:32:33|2021-02-06 06:01:04|          97|          72|   null|    30511|\n",
      "+-----------------+--------------------+-------------------+-------------------+------------+------------+-------+---------+\n",
      "only showing top 20 rows\n",
      "\n"
     ]
    },
    {
     "name": "stderr",
     "output_type": "stream",
     "text": [
      "                                                                                \r"
     ]
    }
   ],
   "source": [
    "df. \\\n",
    "    withColumn('date_diff', df.dropoff_datetime.cast('long') - df.pickup_datetime.cast('long')). \\\n",
    "    orderBy(F.col('date_diff').desc()). \\\n",
    "    show()"
   ]
  },
  {
   "cell_type": "markdown",
   "id": "6cc97a55-c18e-45d0-bc2e-df07050ef51f",
   "metadata": {},
   "source": [
    "### Question 5"
   ]
  },
  {
   "cell_type": "code",
   "execution_count": 15,
   "id": "ea3a42bc-d1b5-4346-8ec6-bbfcc4b23069",
   "metadata": {},
   "outputs": [],
   "source": [
    "df_res = spark.sql(\"\"\"\n",
    "SELECT\n",
    "    dispatching_base_num,\n",
    "    COUNT(1) AS number_records\n",
    "FROM\n",
    "    test_table\n",
    "GROUP BY\n",
    "    dispatching_base_num\n",
    "ORDER BY\n",
    "    number_records desc\n",
    "\"\"\")"
   ]
  },
  {
   "cell_type": "code",
   "execution_count": 17,
   "id": "bbdfb987-54b6-4a52-899d-11ce00c2f666",
   "metadata": {},
   "outputs": [
    {
     "name": "stderr",
     "output_type": "stream",
     "text": [
      "[Stage 12:==============================================>         (20 + 4) / 24]\r"
     ]
    },
    {
     "name": "stdout",
     "output_type": "stream",
     "text": [
      "+--------------------+--------------+\n",
      "|dispatching_base_num|number_records|\n",
      "+--------------------+--------------+\n",
      "|              B02510|       3233664|\n",
      "|              B02764|        965568|\n",
      "|              B02872|        882689|\n",
      "|              B02875|        685390|\n",
      "|              B02765|        559768|\n",
      "|              B02869|        429720|\n",
      "|              B02887|        322331|\n",
      "|              B02871|        312364|\n",
      "|              B02864|        311603|\n",
      "|              B02866|        311089|\n",
      "|              B02878|        305185|\n",
      "|              B02682|        303255|\n",
      "|              B02617|        274510|\n",
      "|              B02883|        251617|\n",
      "|              B02884|        244963|\n",
      "|              B02882|        232173|\n",
      "|              B02876|        215693|\n",
      "|              B02879|        210137|\n",
      "|              B02867|        200530|\n",
      "|              B02877|        198938|\n",
      "+--------------------+--------------+\n",
      "only showing top 20 rows\n",
      "\n"
     ]
    },
    {
     "name": "stderr",
     "output_type": "stream",
     "text": [
      "                                                                                \r"
     ]
    }
   ],
   "source": [
    "df_res.show()"
   ]
  },
  {
   "cell_type": "markdown",
   "id": "8dd8b707-7102-4885-8f8d-22168be3faeb",
   "metadata": {},
   "source": [
    "### Question 6"
   ]
  },
  {
   "cell_type": "code",
   "execution_count": 18,
   "id": "e4e8fddf-d605-4ac4-85fb-b32c81c6a3d0",
   "metadata": {},
   "outputs": [
    {
     "name": "stdout",
     "output_type": "stream",
     "text": [
      "--2022-03-01 20:36:11--  https://s3.amazonaws.com/nyc-tlc/misc/taxi+_zone_lookup.csv\n",
      "Resolving s3.amazonaws.com (s3.amazonaws.com)... 54.231.140.232\n",
      "Connecting to s3.amazonaws.com (s3.amazonaws.com)|54.231.140.232|:443... connected.\n",
      "HTTP request sent, awaiting response... 200 OK\n",
      "Length: 12322 (12K) [application/octet-stream]\n",
      "Saving to: ‘taxi+_zone_lookup.csv’\n",
      "\n",
      "taxi+_zone_lookup.c 100%[===================>]  12.03K  --.-KB/s    in 0s      \n",
      "\n",
      "2022-03-01 20:36:12 (154 MB/s) - ‘taxi+_zone_lookup.csv’ saved [12322/12322]\n",
      "\n"
     ]
    }
   ],
   "source": [
    "!wget https://s3.amazonaws.com/nyc-tlc/misc/taxi+_zone_lookup.csv"
   ]
  },
  {
   "cell_type": "code",
   "execution_count": 19,
   "id": "fd445e0f-5c04-40c0-bee0-ec5b0f612d51",
   "metadata": {},
   "outputs": [],
   "source": [
    "df_zones = spark.read \\\n",
    "    .option(\"header\", \"true\") \\\n",
    "    .csv('taxi+_zone_lookup.csv')"
   ]
  },
  {
   "cell_type": "code",
   "execution_count": 32,
   "id": "048b7910-29e7-465d-8444-ebbaae0c6d61",
   "metadata": {},
   "outputs": [],
   "source": [
    "df_join = df.join(df_zones, df.PULocationID == df_zones.LocationID).withColumnRenamed('Zone', 'PUzone') \\\n",
    "            .join(df_zones, df.DOLocationID == df_zones.LocationID).withColumnRenamed('Zone', 'DOzone')"
   ]
  },
  {
   "cell_type": "code",
   "execution_count": 33,
   "id": "45fa1fad-3078-43cb-a925-c11ada3fee05",
   "metadata": {},
   "outputs": [],
   "source": [
    "df_join.registerTempTable('test_table_join')"
   ]
  },
  {
   "cell_type": "code",
   "execution_count": 34,
   "id": "814d5965-9722-40a6-9634-de573d7516ba",
   "metadata": {},
   "outputs": [],
   "source": [
    "df_res = spark.sql(\"\"\"\n",
    "SELECT\n",
    "    PUzone, DOzone,\n",
    "    COUNT(1) AS number_records\n",
    "FROM\n",
    "    test_table_join\n",
    "GROUP BY\n",
    "    PUzone, DOzone\n",
    "ORDER BY\n",
    "    number_records desc\n",
    "\"\"\")"
   ]
  },
  {
   "cell_type": "code",
   "execution_count": 35,
   "id": "07d08779-97e2-46d7-a1fe-131b1e7e3a2b",
   "metadata": {},
   "outputs": [
    {
     "name": "stderr",
     "output_type": "stream",
     "text": [
      "                                                                                \r"
     ]
    },
    {
     "name": "stdout",
     "output_type": "stream",
     "text": [
      "+-------------------+--------------------+--------------+\n",
      "|             PUzone|              DOzone|number_records|\n",
      "+-------------------+--------------------+--------------+\n",
      "|      East New York|Governor's Island...|        135123|\n",
      "|       Borough Park|Governor's Island...|        111987|\n",
      "|      East New York|              Corona|         90082|\n",
      "|           Canarsie|Governor's Island...|         84078|\n",
      "|Crown Heights North|Governor's Island...|         77928|\n",
      "|       Borough Park|              Corona|         74658|\n",
      "|           Canarsie|              Corona|         56052|\n",
      "|          Bay Ridge|Governor's Island...|         53802|\n",
      "|Crown Heights North|              Corona|         51952|\n",
      "|      East New York|     Pelham Bay Park|         45041|\n",
      "|      East New York|          Mount Hope|         45041|\n",
      "|      East New York|Forest Park/Highl...|         45041|\n",
      "|      East New York|     Freshkills Park|         45041|\n",
      "|      East New York|       East New York|         45041|\n",
      "|      East New York|            Gramercy|         45041|\n",
      "|      East New York|            Glendale|         45041|\n",
      "|      East New York|      Yorkville West|         45041|\n",
      "|      East New York|Heartland Village...|         45041|\n",
      "|      East New York|Greenwich Village...|         45041|\n",
      "|      East New York|        East Chelsea|         45041|\n",
      "+-------------------+--------------------+--------------+\n",
      "only showing top 20 rows\n",
      "\n"
     ]
    }
   ],
   "source": [
    "df_res.show()"
   ]
  },
  {
   "cell_type": "code",
   "execution_count": null,
   "id": "cf38c699-8db7-4f38-b608-50e2442dbea0",
   "metadata": {},
   "outputs": [],
   "source": []
  }
 ],
 "metadata": {
  "kernelspec": {
   "display_name": "Python 3 (ipykernel)",
   "language": "python",
   "name": "python3"
  },
  "language_info": {
   "codemirror_mode": {
    "name": "ipython",
    "version": 3
   },
   "file_extension": ".py",
   "mimetype": "text/x-python",
   "name": "python",
   "nbconvert_exporter": "python",
   "pygments_lexer": "ipython3",
   "version": "3.9.7"
  }
 },
 "nbformat": 4,
 "nbformat_minor": 5
}
